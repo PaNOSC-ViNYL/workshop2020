{
 "cells": [
  {
   "cell_type": "code",
   "execution_count": 1,
   "metadata": {},
   "outputs": [
    {
     "name": "stdout",
     "output_type": "stream",
     "text": [
      "initializing ocelot...\n",
      "\n",
      "WARNING: esther_execute could not be imported. This is most probably due to Esther not being installed or not found. Expect RunTimeErrors when attempting to run the EstherPhotonMatterInteractor.backengine().\n"
     ]
    }
   ],
   "source": [
    "import os,shutil\n",
    "from SimEx.Calculators.GAPDPhotonDiffractor import GAPDPhotonDiffractor\n",
    "from SimEx.Parameters.GAPDPhotonDiffractorParameters import GAPDPhotonDiffractorParameters\n",
    "from SimEx.Parameters.DetectorGeometry import DetectorGeometry, DetectorPanel\n",
    "from SimEx.Parameters.PhotonBeamParameters import PhotonBeamParameters\n",
    "from SimEx.Utilities.Units import meter, electronvolt, joule, radian"
   ]
  },
  {
   "cell_type": "markdown",
   "metadata": {},
   "source": [
    "## Detector setup"
   ]
  },
  {
   "cell_type": "code",
   "execution_count": 2,
   "metadata": {},
   "outputs": [],
   "source": [
    "detector_panel = DetectorPanel(\n",
    "            ranges={\n",
    "                'fast_scan_min': 0,\n",
    "                'fast_scan_max': 200,\n",
    "                'slow_scan_min': 0,\n",
    "                'slow_scan_max': 20\n",
    "            },\n",
    "            pixel_size=220e-6 * meter,\n",
    "            photon_response=1.0,\n",
    "            distance_from_interaction_plane=0.13 * meter,\n",
    "            corners={\n",
    "                'x': -100,\n",
    "                'y': -100\n",
    "            },\n",
    "        )\n",
    "detector_geometry = DetectorGeometry(panels=[detector_panel])"
   ]
  },
  {
   "cell_type": "markdown",
   "metadata": {},
   "source": [
    "## Monochromatic Beam setup"
   ]
  },
  {
   "cell_type": "code",
   "execution_count": 3,
   "metadata": {},
   "outputs": [],
   "source": [
    "beam = PhotonBeamParameters(\n",
    "            photon_energy=8.6e3 * electronvolt,\n",
    "            beam_diameter_fwhm=1.0e-6 * meter,\n",
    "            pulse_energy=1.0e-3 * joule,\n",
    "        )"
   ]
  },
  {
   "cell_type": "markdown",
   "metadata": {},
   "source": [
    "## Diffractor setup"
   ]
  },
  {
   "cell_type": "code",
   "execution_count": 4,
   "metadata": {},
   "outputs": [],
   "source": [
    "parameters = GAPDPhotonDiffractorParameters(\n",
    "            detector_geometry=detector_geometry,\n",
    "            beam_parameters=beam,\n",
    "            forced_mpi_command='mpirun -np 1')\n",
    "\n",
    "diffractor = GAPDPhotonDiffractor(parameters=parameters,\n",
    "                                          input_path='3WUL.pdb',\n",
    "                                          output_path='out.txt')"
   ]
  },
  {
   "cell_type": "code",
   "execution_count": 5,
   "metadata": {},
   "outputs": [
    {
     "name": "stdout",
     "output_type": "stream",
     "text": [
      "GAPDPhotonDiffractor backengine command: mpirun -np 1 GAPD-SimEx -p in.param\n"
     ]
    },
    {
     "data": {
      "text/plain": [
       "127"
      ]
     },
     "execution_count": 5,
     "metadata": {},
     "output_type": "execute_result"
    }
   ],
   "source": [
    "diffractor.backengine()"
   ]
  }
 ],
 "metadata": {
  "kernelspec": {
   "display_name": "Python 3",
   "language": "python",
   "name": "python3"
  },
  "language_info": {
   "codemirror_mode": {
    "name": "ipython",
    "version": 3
   },
   "file_extension": ".py",
   "mimetype": "text/x-python",
   "name": "python",
   "nbconvert_exporter": "python",
   "pygments_lexer": "ipython3",
   "version": "3.6.7"
  }
 },
 "nbformat": 4,
 "nbformat_minor": 2
}
