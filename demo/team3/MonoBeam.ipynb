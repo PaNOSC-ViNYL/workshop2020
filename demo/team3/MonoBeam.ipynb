{
 "cells": [
  {
   "cell_type": "code",
   "execution_count": 10,
   "metadata": {},
   "outputs": [],
   "source": [
    "import os,shutil\n",
    "from SimEx.Calculators.GAPDPhotonDiffractor import GAPDPhotonDiffractor\n",
    "from SimEx.Parameters.GAPDPhotonDiffractorParameters import GAPDPhotonDiffractorParameters\n",
    "from SimEx.Parameters.DetectorGeometry import DetectorGeometry, DetectorPanel\n",
    "from SimEx.Parameters.PhotonBeamParameters import PhotonBeamParameters\n",
    "from SimEx.Utilities.Units import meter, electronvolt, joule, radian\n",
    "\n",
    "import numpy as np\n",
    "import matplotlib.pyplot as plt\n",
    "import matplotlib.colors as colors\n",
    "from matplotlib import cm"
   ]
  },
  {
   "cell_type": "markdown",
   "metadata": {},
   "source": [
    "## Detector setup"
   ]
  },
  {
   "cell_type": "code",
   "execution_count": 14,
   "metadata": {},
   "outputs": [],
   "source": [
    "detector_panel = DetectorPanel(\n",
    "            ranges={\n",
    "                'fast_scan_min': 0,\n",
    "                'fast_scan_max': 200,\n",
    "                'slow_scan_min': 0,\n",
    "                'slow_scan_max': 200\n",
    "            },\n",
    "            pixel_size=2200e-6 * meter,\n",
    "            photon_response=1.0,\n",
    "            distance_from_interaction_plane=0.25 * meter,\n",
    "            corners={\n",
    "                'x': -100,\n",
    "                'y': -100\n",
    "            },\n",
    "        )\n",
    "detector_geometry = DetectorGeometry(panels=[detector_panel])"
   ]
  },
  {
   "cell_type": "markdown",
   "metadata": {},
   "source": [
    "## Monochromatic Beam setup"
   ]
  },
  {
   "cell_type": "code",
   "execution_count": 15,
   "metadata": {},
   "outputs": [],
   "source": [
    "beam = PhotonBeamParameters(\n",
    "            photon_energy=18.86e3 * electronvolt,\n",
    "            beam_diameter_fwhm=1.0e-6 * meter,\n",
    "            pulse_energy=1.0e-3 * joule,\n",
    "        )"
   ]
  },
  {
   "cell_type": "markdown",
   "metadata": {},
   "source": [
    "## Diffractor setup"
   ]
  },
  {
   "cell_type": "code",
   "execution_count": 16,
   "metadata": {},
   "outputs": [],
   "source": [
    "parameters = GAPDPhotonDiffractorParameters(\n",
    "            detector_geometry=detector_geometry,\n",
    "            beam_parameters=beam)\n",
    "\n",
    "diffractor = GAPDPhotonDiffractor(parameters=parameters,\n",
    "                                          input_path='single-cu.xyz',\n",
    "                                          output_path='diffr.txt')"
   ]
  },
  {
   "cell_type": "code",
   "execution_count": 17,
   "metadata": {},
   "outputs": [
    {
     "name": "stdout",
     "output_type": "stream",
     "text": [
      "GAPDPhotonDiffractor backengine command: mpirun -np 72 --map-by node --bind-to none -x OMPI_MCA_mpi_warn_on_fork=0 -x OMPI_MCA_btl_base_warn_component_unused=0 GAPD-SimEx -a -p in.param\n"
     ]
    },
    {
     "data": {
      "text/plain": [
       "127"
      ]
     },
     "execution_count": 17,
     "metadata": {},
     "output_type": "execute_result"
    }
   ],
   "source": [
    "diffractor.backengine()"
   ]
  },
  {
   "cell_type": "code",
   "execution_count": 20,
   "metadata": {},
   "outputs": [
    {
     "name": "stdout",
     "output_type": "stream",
     "text": [
      "(201, 201)\n"
     ]
    },
    {
     "data": {
      "image/png": "[encoded data removed]",
      "text/plain": [
       "<Figure size 720x360 with 2 Axes>"
      ]
     },
     "metadata": {
      "needs_background": "light"
     },
     "output_type": "display_data"
    }
   ],
   "source": [
    "data = np.loadtxt('./diffr.txt',ndmin=2)\n",
    "print (data.shape)\n",
    "#plt.imshow(data, norm=colors.LogNorm(vmin=data.min(), vmax=data.max()),)\n",
    "fig = plt.figure(figsize=(10,5))\n",
    "plt.imshow(data,\n",
    "           vmax = 0.5,\n",
    "           cmap=cm.jet)\n",
    "plt.colorbar()\n",
    "plt.show()"
   ]
  }
 ],
 "metadata": {
  "kernelspec": {
   "display_name": "Python 3",
   "language": "python",
   "name": "python3"
  },
  "language_info": {
   "codemirror_mode": {
    "name": "ipython",
    "version": 3
   },
   "file_extension": ".py",
   "mimetype": "text/x-python",
   "name": "python",
   "nbconvert_exporter": "python",
   "pygments_lexer": "ipython3",
   "version": "3.6.7"
  }
 },
 "nbformat": 4,
 "nbformat_minor": 2
}
